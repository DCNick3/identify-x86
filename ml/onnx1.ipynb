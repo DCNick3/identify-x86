{
 "cells": [
  {
   "cell_type": "code",
   "execution_count": 1,
   "metadata": {},
   "outputs": [],
   "source": [
    "import torch\n",
    "import torch_geometric\n",
    "\n",
    "import identify_x86_graph"
   ]
  },
  {
   "cell_type": "code",
   "execution_count": 2,
   "metadata": {},
   "outputs": [
    {
     "name": "stdout",
     "output_type": "stream",
     "text": [
      "1.13.0\n"
     ]
    }
   ],
   "source": [
    "print(torch.__version__)"
   ]
  },
  {
   "cell_type": "code",
   "execution_count": 7,
   "metadata": {},
   "outputs": [
    {
     "name": "stdout",
     "output_type": "stream",
     "text": [
      "RecursiveScriptModule(\n",
      "  original_name=IdentifyModel\n",
      "  (model): RecursiveScriptModule(\n",
      "    original_name=Sequential_d2a63c\n",
      "    (module_0): RecursiveScriptModule(original_name=Embedding)\n",
      "    (module_1): RecursiveScriptModule(original_name=Embedding)\n",
      "    (module_3): RecursiveScriptModule(\n",
      "      original_name=RGCNConvJittable_d28bee\n",
      "      (aggr_module): RecursiveScriptModule(original_name=MeanAggregation)\n",
      "    )\n",
      "    (module_4): RecursiveScriptModule(original_name=ReLU)\n",
      "    (module_5): RecursiveScriptModule(\n",
      "      original_name=RGCNConvJittable_d2941e\n",
      "      (aggr_module): RecursiveScriptModule(original_name=MeanAggregation)\n",
      "    )\n",
      "    (module_6): RecursiveScriptModule(original_name=ReLU)\n",
      "    (module_7): RecursiveScriptModule(\n",
      "      original_name=RGCNConvJittable_d29c7f\n",
      "      (aggr_module): RecursiveScriptModule(original_name=MeanAggregation)\n",
      "    )\n",
      "    (module_8): RecursiveScriptModule(original_name=ReLU)\n",
      "    (module_9): RecursiveScriptModule(\n",
      "      original_name=RGCNConvJittable_d2a4f1\n",
      "      (aggr_module): RecursiveScriptModule(original_name=MeanAggregation)\n",
      "    )\n",
      "    (module_10): RecursiveScriptModule(original_name=ReLU)\n",
      "    (module_11): RecursiveScriptModule(original_name=Linear)\n",
      "  )\n",
      ")\n"
     ]
    }
   ],
   "source": [
    "model = torch.jit.load('model_jit.pt', map_location='cpu')\n",
    "\n",
    "print(model)"
   ]
  },
  {
   "cell_type": "code",
   "execution_count": 8,
   "metadata": {},
   "outputs": [
    {
     "data": {
      "text/plain": [
       "Data(num_nodes=25188, x_code=[25188], x_size=[25188], y=[25188], num_edges=278940, edge_index=[2, 278940], edge_type=[278940])"
      ]
     },
     "execution_count": 8,
     "metadata": {},
     "output_type": "execute_result"
    }
   ],
   "source": [
    "G = identify_x86_graph.load_graph('data/raw/debian/buster/binutils-i686-linux-gnu/usr_bin_i686-linux-gnu-addr2line.graph')\n",
    "\n",
    "G"
   ]
  },
  {
   "cell_type": "code",
   "execution_count": 9,
   "metadata": {},
   "outputs": [
    {
     "name": "stdout",
     "output_type": "stream",
     "text": [
      "tensor([[ 0.8675, -0.8305],\n",
      "        [ 0.8675, -0.8305],\n",
      "        [ 0.8675, -0.8305],\n",
      "        ...,\n",
      "        [ 0.8675, -0.8305],\n",
      "        [ 0.8675, -0.8305],\n",
      "        [ 0.8675, -0.8305]])\n"
     ]
    }
   ],
   "source": [
    "example_input = (G.x_code, G.x_size, G.edge_index, G.edge_type)\n",
    "\n",
    "with torch.no_grad():\n",
    "    example_output = model(*example_input)\n",
    "\n",
    "print(example_output)"
   ]
  },
  {
   "cell_type": "code",
   "execution_count": 10,
   "metadata": {},
   "outputs": [
    {
     "name": "stderr",
     "output_type": "stream",
     "text": [
      "/home/dcnick3/.conda/envs/ml/lib/python3.10/site-packages/torch/onnx/utils.py:823: UserWarning: no signature found for <torch.ScriptMethod object at 0x7f7c02552ca0>, skipping _decide_input_format\n",
      "  warnings.warn(f\"{e}, skipping _decide_input_format\")\n"
     ]
    }
   ],
   "source": [
    "torch.onnx.export(\n",
    "    model = model,\n",
    "    args = (G.x_code, G.x_size, G.edge_index, G.edge_type),\n",
    "    f = 'model.onnx',\n",
    "    input_names = ['x_code', 'x_size', 'edge_index', 'edge_type'],\n",
    "    operator_export_type=torch.onnx.OperatorExportTypes.ONNX,\n",
    "    opset_version = 18,\n",
    "    verbose = True,\n",
    "    dynamic_axes = None,\n",
    "    export_modules_as_functions = False,\n",
    ")"
   ]
  },
  {
   "cell_type": "code",
   "execution_count": null,
   "metadata": {},
   "outputs": [],
   "source": []
  }
 ],
 "metadata": {
  "kernelspec": {
   "display_name": "ml",
   "language": "python",
   "name": "python3"
  },
  "language_info": {
   "codemirror_mode": {
    "name": "ipython",
    "version": 3
   },
   "file_extension": ".py",
   "mimetype": "text/x-python",
   "name": "python",
   "nbconvert_exporter": "python",
   "pygments_lexer": "ipython3",
   "version": "3.10.8"
  },
  "orig_nbformat": 4,
  "vscode": {
   "interpreter": {
    "hash": "ee189fb280569f94aaba768fbc6f9a6e82e99133f07daf3aeaa1af78f799e3c7"
   }
  }
 },
 "nbformat": 4,
 "nbformat_minor": 2
}
