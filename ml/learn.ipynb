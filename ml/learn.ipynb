{
 "cells": [
  {
   "cell_type": "code",
   "execution_count": 1,
   "metadata": {
    "cellId": "rtd24hvg6odn9rbv82xc9f"
   },
   "outputs": [],
   "source": [
    "#!g1.1\n",
    "# %pip install -U plotly==5.11.0 pandas==1.3.5 pytorch_lightning==1.8.0 numpy==1.21.6 ipywidgets==8.0.2 \n",
    "# %pip install torch-scatter torch-sparse torch-cluster torch-spline-conv torch-geometric -f https://data.pyg.org/whl/torch-1.12.0+cu116.html\n",
    "# %pip install tensorboard==2.11.0"
   ]
  },
  {
   "cell_type": "code",
   "execution_count": 2,
   "metadata": {
    "cellId": "37emi23szdssau0nque5o8"
   },
   "outputs": [],
   "source": [
    "#!g1.1\n",
    "import plotly.express as px\n",
    "import pandas as pd\n",
    "import torch\n",
    "import pytorch_lightning as pl\n",
    "import numpy as np\n",
    "import pickle\n",
    "import torchtext\n",
    "import torch_geometric\n",
    "from tqdm import tqdm\n",
    "import identify_x86_data"
   ]
  },
  {
   "cell_type": "markdown",
   "metadata": {
    "cellId": "h3gyr0cmlyp73wob8u32j",
    "execution_id": "9bcf8f7f-fdb4-4f02-9716-0aad31c04472"
   },
   "source": [
    "## Dataset loading"
   ]
  },
  {
   "cell_type": "code",
   "execution_count": 3,
   "metadata": {
    "cellId": "bc4lnea3eu81bilzaduq4v"
   },
   "outputs": [
    {
     "data": {
      "text/html": [
       "<div>\n",
       "<style scoped>\n",
       "    .dataframe tbody tr th:only-of-type {\n",
       "        vertical-align: middle;\n",
       "    }\n",
       "\n",
       "    .dataframe tbody tr th {\n",
       "        vertical-align: top;\n",
       "    }\n",
       "\n",
       "    .dataframe thead th {\n",
       "        text-align: right;\n",
       "    }\n",
       "</style>\n",
       "<table border=\"1\" class=\"dataframe\">\n",
       "  <thead>\n",
       "    <tr style=\"text-align: right;\">\n",
       "      <th></th>\n",
       "      <th>size</th>\n",
       "      <th>code</th>\n",
       "      <th>label</th>\n",
       "    </tr>\n",
       "    <tr>\n",
       "      <th>addr</th>\n",
       "      <th></th>\n",
       "      <th></th>\n",
       "      <th></th>\n",
       "    </tr>\n",
       "  </thead>\n",
       "  <tbody>\n",
       "    <tr>\n",
       "      <th>134512640</th>\n",
       "      <td>2</td>\n",
       "      <td>Jg_rel8_32</td>\n",
       "      <td>False</td>\n",
       "    </tr>\n",
       "    <tr>\n",
       "      <th>134512641</th>\n",
       "      <td>1</td>\n",
       "      <td>Inc_r32</td>\n",
       "      <td>False</td>\n",
       "    </tr>\n",
       "    <tr>\n",
       "      <th>134512642</th>\n",
       "      <td>1</td>\n",
       "      <td>Dec_r32</td>\n",
       "      <td>False</td>\n",
       "    </tr>\n",
       "    <tr>\n",
       "      <th>134512643</th>\n",
       "      <td>1</td>\n",
       "      <td>Inc_r32</td>\n",
       "      <td>False</td>\n",
       "    </tr>\n",
       "    <tr>\n",
       "      <th>134512644</th>\n",
       "      <td>2</td>\n",
       "      <td>Add_rm32_r32</td>\n",
       "      <td>False</td>\n",
       "    </tr>\n",
       "    <tr>\n",
       "      <th>...</th>\n",
       "      <td>...</td>\n",
       "      <td>...</td>\n",
       "      <td>...</td>\n",
       "    </tr>\n",
       "    <tr>\n",
       "      <th>160992231</th>\n",
       "      <td>2</td>\n",
       "      <td>Add_rm8_r8</td>\n",
       "      <td>False</td>\n",
       "    </tr>\n",
       "    <tr>\n",
       "      <th>160992232</th>\n",
       "      <td>2</td>\n",
       "      <td>Add_rm8_r8</td>\n",
       "      <td>False</td>\n",
       "    </tr>\n",
       "    <tr>\n",
       "      <th>160992233</th>\n",
       "      <td>2</td>\n",
       "      <td>Add_rm8_r8</td>\n",
       "      <td>False</td>\n",
       "    </tr>\n",
       "    <tr>\n",
       "      <th>160992234</th>\n",
       "      <td>2</td>\n",
       "      <td>Add_rm8_r8</td>\n",
       "      <td>False</td>\n",
       "    </tr>\n",
       "    <tr>\n",
       "      <th>160992235</th>\n",
       "      <td>1</td>\n",
       "      <td>INVALID</td>\n",
       "      <td>False</td>\n",
       "    </tr>\n",
       "  </tbody>\n",
       "</table>\n",
       "<p>26472710 rows × 3 columns</p>\n",
       "</div>"
      ],
      "text/plain": [
       "           size          code  label\n",
       "addr                                \n",
       "134512640     2    Jg_rel8_32  False\n",
       "134512641     1       Inc_r32  False\n",
       "134512642     1       Dec_r32  False\n",
       "134512643     1       Inc_r32  False\n",
       "134512644     2  Add_rm32_r32  False\n",
       "...         ...           ...    ...\n",
       "160992231     2    Add_rm8_r8  False\n",
       "160992232     2    Add_rm8_r8  False\n",
       "160992233     2    Add_rm8_r8  False\n",
       "160992234     2    Add_rm8_r8  False\n",
       "160992235     1       INVALID  False\n",
       "\n",
       "[26472710 rows x 3 columns]"
      ]
     },
     "execution_count": 3,
     "metadata": {},
     "output_type": "execute_result"
    }
   ],
   "source": [
    "#!g1.1\n",
    "\n",
    "df = pd.read_parquet('usr_lib_gcc_i686-linux-gnu_8_lto1.superset')\n",
    "# df = pd.read_parquet('bin_zsh5.superset')\n",
    "df.code = df.code.map(lambda x: identify_x86_data.INSTR_CODES[x])\n",
    "df.set_index('addr', inplace=True)\n",
    "df.sort_index(inplace=True)\n",
    "df"
   ]
  },
  {
   "cell_type": "code",
   "execution_count": 4,
   "metadata": {
    "cellId": "8zo5e219h4x3i6xrkqr3if"
   },
   "outputs": [
    {
     "data": {
      "text/html": [
       "<div>\n",
       "<style scoped>\n",
       "    .dataframe tbody tr th:only-of-type {\n",
       "        vertical-align: middle;\n",
       "    }\n",
       "\n",
       "    .dataframe tbody tr th {\n",
       "        vertical-align: top;\n",
       "    }\n",
       "\n",
       "    .dataframe thead th {\n",
       "        text-align: right;\n",
       "    }\n",
       "</style>\n",
       "<table border=\"1\" class=\"dataframe\">\n",
       "  <thead>\n",
       "    <tr style=\"text-align: right;\">\n",
       "      <th></th>\n",
       "      <th>size</th>\n",
       "      <th>code</th>\n",
       "      <th>label</th>\n",
       "    </tr>\n",
       "    <tr>\n",
       "      <th>addr</th>\n",
       "      <th></th>\n",
       "      <th></th>\n",
       "      <th></th>\n",
       "    </tr>\n",
       "  </thead>\n",
       "  <tbody>\n",
       "    <tr>\n",
       "      <th>134512640</th>\n",
       "      <td>2</td>\n",
       "      <td>Jg_rel8_32</td>\n",
       "      <td>False</td>\n",
       "    </tr>\n",
       "    <tr>\n",
       "      <th>134512641</th>\n",
       "      <td>1</td>\n",
       "      <td>Inc_r32</td>\n",
       "      <td>False</td>\n",
       "    </tr>\n",
       "    <tr>\n",
       "      <th>134512642</th>\n",
       "      <td>1</td>\n",
       "      <td>Dec_r32</td>\n",
       "      <td>False</td>\n",
       "    </tr>\n",
       "    <tr>\n",
       "      <th>134512643</th>\n",
       "      <td>1</td>\n",
       "      <td>Inc_r32</td>\n",
       "      <td>False</td>\n",
       "    </tr>\n",
       "    <tr>\n",
       "      <th>134512644</th>\n",
       "      <td>2</td>\n",
       "      <td>Add_rm32_r32</td>\n",
       "      <td>False</td>\n",
       "    </tr>\n",
       "    <tr>\n",
       "      <th>...</th>\n",
       "      <td>...</td>\n",
       "      <td>...</td>\n",
       "      <td>...</td>\n",
       "    </tr>\n",
       "    <tr>\n",
       "      <th>160992231</th>\n",
       "      <td>2</td>\n",
       "      <td>Add_rm8_r8</td>\n",
       "      <td>False</td>\n",
       "    </tr>\n",
       "    <tr>\n",
       "      <th>160992232</th>\n",
       "      <td>2</td>\n",
       "      <td>Add_rm8_r8</td>\n",
       "      <td>False</td>\n",
       "    </tr>\n",
       "    <tr>\n",
       "      <th>160992233</th>\n",
       "      <td>2</td>\n",
       "      <td>Add_rm8_r8</td>\n",
       "      <td>False</td>\n",
       "    </tr>\n",
       "    <tr>\n",
       "      <th>160992234</th>\n",
       "      <td>2</td>\n",
       "      <td>Add_rm8_r8</td>\n",
       "      <td>False</td>\n",
       "    </tr>\n",
       "    <tr>\n",
       "      <th>160992235</th>\n",
       "      <td>1</td>\n",
       "      <td>INVALID</td>\n",
       "      <td>False</td>\n",
       "    </tr>\n",
       "  </tbody>\n",
       "</table>\n",
       "<p>26472710 rows × 3 columns</p>\n",
       "</div>"
      ],
      "text/plain": [
       "           size          code  label\n",
       "addr                                \n",
       "134512640     2    Jg_rel8_32  False\n",
       "134512641     1       Inc_r32  False\n",
       "134512642     1       Dec_r32  False\n",
       "134512643     1       Inc_r32  False\n",
       "134512644     2  Add_rm32_r32  False\n",
       "...         ...           ...    ...\n",
       "160992231     2    Add_rm8_r8  False\n",
       "160992232     2    Add_rm8_r8  False\n",
       "160992233     2    Add_rm8_r8  False\n",
       "160992234     2    Add_rm8_r8  False\n",
       "160992235     1       INVALID  False\n",
       "\n",
       "[26472710 rows x 3 columns]"
      ]
     },
     "execution_count": 4,
     "metadata": {},
     "output_type": "execute_result"
    }
   ],
   "source": [
    "#!g1.1\n",
    "df"
   ]
  },
  {
   "cell_type": "code",
   "execution_count": 5,
   "metadata": {
    "cellId": "8aa8u67fflgjo4cths3bve"
   },
   "outputs": [
    {
     "data": {
      "text/plain": [
       "2     11148937\n",
       "1      6636941\n",
       "3      3399692\n",
       "6      2229395\n",
       "5      1538383\n",
       "4       948467\n",
       "7       466278\n",
       "8        71750\n",
       "10       20258\n",
       "11        7894\n",
       "9         4527\n",
       "15         119\n",
       "12          57\n",
       "14           6\n",
       "13           6\n",
       "Name: size, dtype: int64"
      ]
     },
     "execution_count": 5,
     "metadata": {},
     "output_type": "execute_result"
    }
   ],
   "source": [
    "#!g1.1\n",
    "# https://wiki.osdev.org/X86-64_Instruction_Encoding#General_Overview (x86 should be smaller but meh)\n",
    "MAX_ISN_SIZE = 15\n",
    "\n",
    "df['size'].value_counts()"
   ]
  },
  {
   "cell_type": "code",
   "execution_count": 6,
   "metadata": {
    "cellId": "fl866tc8b3m2n86occusnr"
   },
   "outputs": [
    {
     "data": {
      "text/plain": [
       "Add_rm8_r8                        4192933\n",
       "Inc_r32                           1260810\n",
       "Pushd_CS                          1096277\n",
       "Push_r32                           879202\n",
       "Add_rm32_r32                       614975\n",
       "                                   ...   \n",
       "Movdqu_xmm_xmmm128                      1\n",
       "VEX_Vpunpckldq_ymm_ymm_ymmm256          1\n",
       "VEX_Vhsubps_xmm_xmm_xmmm128             1\n",
       "VEX_Vpcmpgtw_ymm_ymm_ymmm256            1\n",
       "VEX_Vpcmpgtb_ymm_ymm_ymmm256            1\n",
       "Name: code, Length: 1063, dtype: int64"
      ]
     },
     "execution_count": 6,
     "metadata": {},
     "output_type": "execute_result"
    }
   ],
   "source": [
    "#!g1.1\n",
    "df.code.value_counts()"
   ]
  },
  {
   "cell_type": "code",
   "execution_count": 7,
   "metadata": {
    "cellId": "a4kuv2utmimuoqti0dxmws"
   },
   "outputs": [],
   "source": [
    "#!g1.1\n",
    "from torchtext.vocab import vocab as make_vocab\n",
    "from collections import OrderedDict\n",
    "\n",
    "# TODO: this vocab should be built over the whole training dataset\n",
    "\n",
    "counts = df.code.value_counts()\n",
    "\n",
    "known = { x: i for i, x in enumerate(counts.index[:200]) }\n",
    "vocab = make_vocab(known, specials=['INVALID', 'UNKNOWN'])\n",
    "vocab.set_default_index(vocab['UNKNOWN'])"
   ]
  },
  {
   "cell_type": "code",
   "execution_count": 8,
   "metadata": {
    "cellId": "b88veikgdzvrr2heltwmr"
   },
   "outputs": [
    {
     "data": {
      "text/plain": [
       "9"
      ]
     },
     "execution_count": 8,
     "metadata": {},
     "output_type": "execute_result"
    }
   ],
   "source": [
    "#!g1.1\n",
    "vocab['Dec_r32']"
   ]
  },
  {
   "cell_type": "markdown",
   "metadata": {
    "cellId": "zdnumwxb0as14zhv62vjw3",
    "execution_id": "99d39910-8333-4ac8-807f-65dcb517e63f"
   },
   "source": [
    "## Build graph from the loaded data"
   ]
  },
  {
   "cell_type": "code",
   "execution_count": 9,
   "metadata": {
    "cellId": "lrocwablabuzcig1qsf5"
   },
   "outputs": [],
   "source": [
    "#!g1.1\n",
    "from torch_geometric.data import Data\n",
    "from typing import List, Tuple\n",
    "import gc\n",
    "\n",
    "def encode_instructions(instr):\n",
    "    code = torch.tensor(vocab(instr.code.to_list()))\n",
    "    size = torch.tensor(instr['size'].map(lambda x: x-1).values)\n",
    "    labels = torch.tensor(instr['label'].values)\n",
    "\n",
    "    return code, size, labels\n",
    "\n",
    "EDGE_NEXT = 0\n",
    "EDGE_PREV = 1\n",
    "EDGE_OVERLAP = 2\n",
    "EDGE_RELCOUNT = 3\n",
    "\n",
    "class EdgesBuilder:\n",
    "    def __init__(self):\n",
    "        self.idx_buffer = []\n",
    "        self.ty_buffer = []\n",
    "        self.edge_count = 0\n",
    "        self.edge_idx_parts = []\n",
    "        self.edge_ty_parts = []\n",
    "\n",
    "    def add_edge(self, src, dst, kind):\n",
    "        self.idx_buffer.append((src, dst))\n",
    "        self.ty_buffer.append(kind)\n",
    "        self.edge_count += 1\n",
    "        \n",
    "        if len(self.idx_buffer) >= 0x80000: # TODO: tune\n",
    "            self.edge_idx_parts.append(torch.tensor(self.idx_buffer, dtype=torch.long))\n",
    "            self.edge_ty_parts.append(torch.tensor(self.ty_buffer, dtype=torch.int8))\n",
    "            self.idx_buffer.clear()\n",
    "            self.ty_buffer.clear()\n",
    "\n",
    "    def build(self):\n",
    "        self.edge_idx_parts.append(torch.tensor(self.idx_buffer, dtype=torch.long))\n",
    "        self.edge_ty_parts.append(torch.tensor(self.ty_buffer, dtype=torch.int8))\n",
    "        self.idx_buffer.clear()\n",
    "        self.ty_buffer.clear()\n",
    "\n",
    "        edge_idx = torch.cat(self.edge_idx_parts)\n",
    "        self.edge_idx_parts.clear()\n",
    "        gc.collect()\n",
    "        \n",
    "        edge_ty = torch.cat(self.edge_ty_parts)\n",
    "        self.edge_ty_parts.clear()\n",
    "        gc.collect()\n",
    "\n",
    "        return edge_idx, edge_ty\n",
    "\n",
    "    def __len__(self):\n",
    "        return self.edge_count\n",
    "\n",
    "def build_executable_graph(df):\n",
    "    G = Data()\n",
    "    G.num_nodes = df.shape[0]\n",
    "    G.x_code, G.x_size, G.y = encode_instructions(df)\n",
    "\n",
    "    edges = EdgesBuilder()\n",
    "\n",
    "    t = tqdm(df.iterrows(), total=df.shape[0])\n",
    "    for addr, x in t:\n",
    "        i = df.index.get_loc(addr)\n",
    "        next_addr = addr + x.size\n",
    "        try:\n",
    "            j = df.index.get_loc(next_addr)\n",
    "\n",
    "            edges.add_edge(i, j, EDGE_NEXT)\n",
    "            edges.add_edge(j, i, EDGE_PREV)\n",
    "        except KeyError:\n",
    "            pass\n",
    "\n",
    "        for o in range(addr+1, next_addr):\n",
    "            try:\n",
    "                j = df.index.get_loc(o)\n",
    "                edges.add_edge(i, j, EDGE_OVERLAP)\n",
    "                edges.add_edge(j, i, EDGE_OVERLAP)\n",
    "            except KeyError:\n",
    "                pass\n",
    "        if addr % 0x1000 == 0:\n",
    "            t.set_description(f'edges: {len(edges)}')\n",
    "\n",
    "    edge_idx, edge_ty = edges.build()\n",
    "    del edges\n",
    "    gc.collect()\n",
    "\n",
    "    print(edge_idx.shape)\n",
    "    print(edge_idx)\n",
    "\n",
    "    print(edge_ty)\n",
    "\n",
    "    G.num_edges = edge_idx.shape[0]\n",
    "    G.edge_index = torch.swapaxes(edge_idx, 0, 1)\n",
    "    G.edge_type = edge_ty\n",
    "\n",
    "    return G"
   ]
  },
  {
   "cell_type": "code",
   "execution_count": 10,
   "metadata": {
    "cellId": "e1d3wiuf9v7cyl2rgi7ao"
   },
   "outputs": [
    {
     "name": "stderr",
     "output_type": "stream",
     "text": [
      "edges: 158817918: 100%|██████████| 26472710/26472710 [16:32<00:00, 26676.94it/s]\n"
     ]
    },
    {
     "name": "stdout",
     "output_type": "stream",
     "text": [
      "torch.Size([158836212, 2])\n",
      "tensor([[       0,        3],\n",
      "        [       3,        0],\n",
      "        [       0,        1],\n",
      "        ...,\n",
      "        [26472709, 26472707],\n",
      "        [26472708, 26472709],\n",
      "        [26472709, 26472708]])\n",
      "tensor([0, 1, 2,  ..., 2, 2, 2], dtype=torch.int8)\n"
     ]
    }
   ],
   "source": [
    "#!g1.1\n",
    "# TODO: use PyG's Dataset class\n",
    "G = build_executable_graph(df)"
   ]
  },
  {
   "cell_type": "code",
   "execution_count": 11,
   "metadata": {
    "cellId": "tlayxt3bdowcdoddr1bif"
   },
   "outputs": [],
   "source": [
    "#!g1.1\n",
    "from torch_geometric.nn import Sequential, RGCNConv, Linear\n",
    "from torch.nn import Embedding, ReLU, Sigmoid\n",
    "import torchmetrics\n",
    "import torchmetrics.classification"
   ]
  },
  {
   "cell_type": "code",
   "execution_count": 12,
   "metadata": {
    "cellId": "ca5zenizst64jpx3g3xjjk"
   },
   "outputs": [],
   "source": [
    "#!g1.1\n",
    "class LightningModel(pl.LightningModule):\n",
    "    def __init__(self):\n",
    "        super(LightningModel, self).__init__()\n",
    "\n",
    "        size_embed_size = 4\n",
    "        code_embed_size = 32\n",
    "\n",
    "        self.model = Sequential('x_code, x_size, edge_index, edge_type', [\n",
    "            (Embedding(num_embeddings=MAX_ISN_SIZE, embedding_dim=size_embed_size), 'x_size -> x_size'),\n",
    "            (Embedding(num_embeddings=len(vocab), embedding_dim=code_embed_size), 'x_code -> x_code'),\n",
    "            (lambda x1, x2: torch.cat([x1, x2], dim=1), 'x_size, x_code -> x'),\n",
    "            (RGCNConv(size_embed_size + code_embed_size, 24, EDGE_RELCOUNT), 'x, edge_index, edge_type -> x'),\n",
    "            ReLU(inplace=True),\n",
    "            (RGCNConv(24, 16, EDGE_RELCOUNT), 'x, edge_index, edge_type -> x'),\n",
    "            ReLU(inplace=True),\n",
    "            (RGCNConv(16, 8, EDGE_RELCOUNT), 'x, edge_index, edge_type -> x'),\n",
    "            ReLU(inplace=True),\n",
    "            (RGCNConv(8, 4, EDGE_RELCOUNT), 'x, edge_index, edge_type -> x'),\n",
    "            ReLU(inplace=True),\n",
    "            Linear(4, 2),\n",
    "        ])\n",
    "\n",
    "        self.train_accuracy = torchmetrics.classification.BinaryAccuracy()\n",
    "        self.train_precision = torchmetrics.classification.BinaryPrecision()\n",
    "        self.train_recall = torchmetrics.classification.BinaryRecall()\n",
    "\n",
    "        self.valid_accuracy = torchmetrics.classification.BinaryAccuracy()\n",
    "        self.valid_precision = torchmetrics.classification.BinaryPrecision()\n",
    "        self.valid_recall = torchmetrics.classification.BinaryRecall()\n",
    "\n",
    "\n",
    "    def forward(self, x_code, x_size, edge_index, edge_type):\n",
    "        x_out = self.model(x_code, x_size, edge_index, edge_type)\n",
    "\n",
    "        return x_out\n",
    "\n",
    "    def training_step(self, batch, batch_index):\n",
    "        x_code, x_size, edge_index, edge_type = \\\n",
    "            batch.x_code, batch.x_size, batch.edge_index, batch.edge_type\n",
    "\n",
    "        x_out = self.forward(x_code, x_size, edge_index, edge_type)\n",
    "\n",
    "        loss = torch.nn.functional.cross_entropy(x_out, batch.y)\n",
    "\n",
    "        # metrics here\n",
    "        pred = x_out.argmax(-1)\n",
    "        label = batch.y\n",
    "        \n",
    "        self.train_accuracy(pred, label)\n",
    "        self.train_precision(pred, label)\n",
    "        self.train_recall(pred, label)\n",
    "\n",
    "        self.log(\"loss/train\", loss)\n",
    "        self.log(\"accuracy/train\", self.train_accuracy, on_step=True, on_epoch=False)\n",
    "        self.log(\"recall/train\", self.train_recall, on_step=True, on_epoch=False)\n",
    "        self.log(\"precision/train\", self.train_precision, on_step=True, on_epoch=False)\n",
    "\n",
    "        return loss\n",
    "\n",
    "    def validation_step(self, batch, batch_index):\n",
    "        x_code, x_size, edge_index, edge_type = \\\n",
    "            batch.x_code, batch.x_size, batch.edge_index, batch.edge_type\n",
    "\n",
    "        x_out = self.forward(x_code, x_size, edge_index, edge_type)\n",
    "\n",
    "        #loss = torch.nn.functional.cross_entropy(x_out, batch.y)\n",
    "\n",
    "        pred = x_out.argmax(-1)\n",
    "\n",
    "        self.valid_accuracy(pred, batch.y)\n",
    "        self.valid_precision(pred, batch.y)\n",
    "        self.valid_recall(pred, batch.y)\n",
    "\n",
    "        self.log(\"accuracy/val\", self.valid_accuracy, on_step=True, on_epoch=True)\n",
    "        self.log(\"recall/val\", self.valid_recall, on_step=True, on_epoch=True)\n",
    "        self.log(\"precision/val\", self.valid_precision, on_step=True, on_epoch=True)\n",
    "\n",
    "        return x_out, pred, batch.y\n",
    "\n",
    "    def validation_epoch_end(self, validation_step_outputs):\n",
    "        val_loss = 0.0\n",
    "        num_correct = 0\n",
    "        num_total = 0\n",
    "        num_tp = 0\n",
    "        num_tn = 0\n",
    "        num_fp = 0\n",
    "        num_fn = 0\n",
    "\n",
    "        for output, pred, labels in validation_step_outputs:\n",
    "            val_loss += torch.nn.functional.cross_entropy(output, labels, reduction=\"sum\")\n",
    "\n",
    "        self.log(\"loss/val\", val_loss)\n",
    "\n",
    "    def configure_optimizers(self):\n",
    "        return torch.optim.Adam(self.parameters(), lr = 3e-4)"
   ]
  },
  {
   "cell_type": "code",
   "execution_count": 13,
   "metadata": {
    "cellId": "npknzk750bkdrcncavnsh"
   },
   "outputs": [
    {
     "name": "stderr",
     "output_type": "stream",
     "text": [
      "/home/dcnick3/.conda/envs/ml/lib/python3.10/site-packages/torch/cuda/__init__.py:83: UserWarning: CUDA initialization: CUDA unknown error - this may be due to an incorrectly set up environment, e.g. changing env variable CUDA_VISIBLE_DEVICES after program start. Setting the available devices to be zero. (Triggered internally at  /opt/conda/conda-bld/pytorch_1659484803030/work/c10/cuda/CUDAFunctions.cpp:109.)\n",
      "  return torch._C._cuda_getDeviceCount() > 0\n"
     ]
    }
   ],
   "source": [
    "#!g1.1\n",
    "model = LightningModel()"
   ]
  },
  {
   "cell_type": "code",
   "execution_count": 14,
   "metadata": {
    "cellId": "fknkqidhgskcld5y9r6"
   },
   "outputs": [
    {
     "data": {
      "text/plain": [
       "LightningModel(\n",
       "  (model): Sequential(\n",
       "    (0): Embedding(15, 4)\n",
       "    (1): Embedding(200, 32)\n",
       "    (2): <function LightningModel.__init__.<locals>.<lambda> at 0x7faaa49ca050>\n",
       "    (3): RGCNConv(36, 24, num_relations=3)\n",
       "    (4): ReLU(inplace=True)\n",
       "    (5): RGCNConv(24, 16, num_relations=3)\n",
       "    (6): ReLU(inplace=True)\n",
       "    (7): RGCNConv(16, 8, num_relations=3)\n",
       "    (8): ReLU(inplace=True)\n",
       "    (9): RGCNConv(8, 4, num_relations=3)\n",
       "    (10): ReLU(inplace=True)\n",
       "    (11): Linear(4, 2, bias=True)\n",
       "  )\n",
       "  (train_accuracy): BinaryAccuracy()\n",
       "  (train_precision): BinaryPrecision()\n",
       "  (train_recall): BinaryRecall()\n",
       "  (valid_accuracy): BinaryAccuracy()\n",
       "  (valid_precision): BinaryPrecision()\n",
       "  (valid_recall): BinaryRecall()\n",
       ")"
      ]
     },
     "execution_count": 14,
     "metadata": {},
     "output_type": "execute_result"
    }
   ],
   "source": [
    "#!g1.1\n",
    "model"
   ]
  },
  {
   "cell_type": "code",
   "execution_count": 15,
   "metadata": {
    "cellId": "ot8f00jygigt8ah5r18mo",
    "execution_id": "cdda3a2f-0c60-41b6-bddf-aef11e9f5185"
   },
   "outputs": [
    {
     "name": "stdout",
     "output_type": "stream",
     "text": [
      "Cuda is available: False\n"
     ]
    },
    {
     "ename": "MisconfigurationException",
     "evalue": "No supported gpu backend found!",
     "output_type": "error",
     "traceback": [
      "\u001b[0;31m---------------------------------------------------------------------------\u001b[0m",
      "\u001b[0;31mMisconfigurationException\u001b[0m                 Traceback (most recent call last)",
      "Cell \u001b[0;32mIn [15], line 18\u001b[0m\n\u001b[1;32m     15\u001b[0m num_epochs \u001b[39m=\u001b[39m \u001b[39m2500\u001b[39m\n\u001b[1;32m     16\u001b[0m \u001b[39m# val_check_interval = len(train_loader)\u001b[39;00m\n\u001b[0;32m---> 18\u001b[0m trainer \u001b[39m=\u001b[39m pl\u001b[39m.\u001b[39;49mTrainer(\n\u001b[1;32m     19\u001b[0m     max_epochs \u001b[39m=\u001b[39;49m num_epochs,\n\u001b[1;32m     20\u001b[0m     \u001b[39m# val_check_interval = val_check_interval,\u001b[39;49;00m\n\u001b[1;32m     21\u001b[0m     log_every_n_steps \u001b[39m=\u001b[39;49m \u001b[39m1\u001b[39;49m,\n\u001b[1;32m     22\u001b[0m     accelerator \u001b[39m=\u001b[39;49m \u001b[39m'\u001b[39;49m\u001b[39mgpu\u001b[39;49m\u001b[39m'\u001b[39;49m,\n\u001b[1;32m     23\u001b[0m     enable_progress_bar \u001b[39m=\u001b[39;49m \u001b[39mFalse\u001b[39;49;00m,\n\u001b[1;32m     24\u001b[0m )\n\u001b[1;32m     25\u001b[0m trainer\u001b[39m.\u001b[39mfit(model, train_loader, val_loader)\n",
      "File \u001b[0;32m~/.conda/envs/ml/lib/python3.10/site-packages/pytorch_lightning/utilities/argparse.py:345\u001b[0m, in \u001b[0;36m_defaults_from_env_vars.<locals>.insert_env_defaults\u001b[0;34m(self, *args, **kwargs)\u001b[0m\n\u001b[1;32m    342\u001b[0m kwargs \u001b[39m=\u001b[39m \u001b[39mdict\u001b[39m(\u001b[39mlist\u001b[39m(env_variables\u001b[39m.\u001b[39mitems()) \u001b[39m+\u001b[39m \u001b[39mlist\u001b[39m(kwargs\u001b[39m.\u001b[39mitems()))\n\u001b[1;32m    344\u001b[0m \u001b[39m# all args were already moved to kwargs\u001b[39;00m\n\u001b[0;32m--> 345\u001b[0m \u001b[39mreturn\u001b[39;00m fn(\u001b[39mself\u001b[39;49m, \u001b[39m*\u001b[39;49m\u001b[39m*\u001b[39;49mkwargs)\n",
      "File \u001b[0;32m~/.conda/envs/ml/lib/python3.10/site-packages/pytorch_lightning/trainer/trainer.py:433\u001b[0m, in \u001b[0;36mTrainer.__init__\u001b[0;34m(self, logger, enable_checkpointing, callbacks, default_root_dir, gradient_clip_val, gradient_clip_algorithm, num_nodes, num_processes, devices, gpus, auto_select_gpus, tpu_cores, ipus, enable_progress_bar, overfit_batches, track_grad_norm, check_val_every_n_epoch, fast_dev_run, accumulate_grad_batches, max_epochs, min_epochs, max_steps, min_steps, max_time, limit_train_batches, limit_val_batches, limit_test_batches, limit_predict_batches, val_check_interval, log_every_n_steps, accelerator, strategy, sync_batchnorm, precision, enable_model_summary, weights_save_path, num_sanity_val_steps, resume_from_checkpoint, profiler, benchmark, deterministic, reload_dataloaders_every_n_epochs, auto_lr_find, replace_sampler_ddp, detect_anomaly, auto_scale_batch_size, plugins, amp_backend, amp_level, move_metrics_to_cpu, multiple_trainloader_mode)\u001b[0m\n\u001b[1;32m    430\u001b[0m \u001b[39m# init connectors\u001b[39;00m\n\u001b[1;32m    431\u001b[0m \u001b[39mself\u001b[39m\u001b[39m.\u001b[39m_data_connector \u001b[39m=\u001b[39m DataConnector(\u001b[39mself\u001b[39m, multiple_trainloader_mode)\n\u001b[0;32m--> 433\u001b[0m \u001b[39mself\u001b[39m\u001b[39m.\u001b[39m_accelerator_connector \u001b[39m=\u001b[39m AcceleratorConnector(\n\u001b[1;32m    434\u001b[0m     num_processes\u001b[39m=\u001b[39;49mnum_processes,\n\u001b[1;32m    435\u001b[0m     devices\u001b[39m=\u001b[39;49mdevices,\n\u001b[1;32m    436\u001b[0m     tpu_cores\u001b[39m=\u001b[39;49mtpu_cores,\n\u001b[1;32m    437\u001b[0m     ipus\u001b[39m=\u001b[39;49mipus,\n\u001b[1;32m    438\u001b[0m     accelerator\u001b[39m=\u001b[39;49maccelerator,\n\u001b[1;32m    439\u001b[0m     strategy\u001b[39m=\u001b[39;49mstrategy,\n\u001b[1;32m    440\u001b[0m     gpus\u001b[39m=\u001b[39;49mgpus,\n\u001b[1;32m    441\u001b[0m     num_nodes\u001b[39m=\u001b[39;49mnum_nodes,\n\u001b[1;32m    442\u001b[0m     sync_batchnorm\u001b[39m=\u001b[39;49msync_batchnorm,\n\u001b[1;32m    443\u001b[0m     benchmark\u001b[39m=\u001b[39;49mbenchmark,\n\u001b[1;32m    444\u001b[0m     replace_sampler_ddp\u001b[39m=\u001b[39;49mreplace_sampler_ddp,\n\u001b[1;32m    445\u001b[0m     deterministic\u001b[39m=\u001b[39;49mdeterministic,\n\u001b[1;32m    446\u001b[0m     auto_select_gpus\u001b[39m=\u001b[39;49mauto_select_gpus,\n\u001b[1;32m    447\u001b[0m     precision\u001b[39m=\u001b[39;49mprecision,\n\u001b[1;32m    448\u001b[0m     amp_type\u001b[39m=\u001b[39;49mamp_backend,\n\u001b[1;32m    449\u001b[0m     amp_level\u001b[39m=\u001b[39;49mamp_level,\n\u001b[1;32m    450\u001b[0m     plugins\u001b[39m=\u001b[39;49mplugins,\n\u001b[1;32m    451\u001b[0m )\n\u001b[1;32m    452\u001b[0m \u001b[39mself\u001b[39m\u001b[39m.\u001b[39m_logger_connector \u001b[39m=\u001b[39m LoggerConnector(\u001b[39mself\u001b[39m)\n\u001b[1;32m    453\u001b[0m \u001b[39mself\u001b[39m\u001b[39m.\u001b[39m_callback_connector \u001b[39m=\u001b[39m CallbackConnector(\u001b[39mself\u001b[39m)\n",
      "File \u001b[0;32m~/.conda/envs/ml/lib/python3.10/site-packages/pytorch_lightning/trainer/connectors/accelerator_connector.py:212\u001b[0m, in \u001b[0;36mAcceleratorConnector.__init__\u001b[0;34m(self, devices, num_nodes, accelerator, strategy, plugins, precision, amp_type, amp_level, sync_batchnorm, benchmark, replace_sampler_ddp, deterministic, auto_select_gpus, num_processes, tpu_cores, ipus, gpus)\u001b[0m\n\u001b[1;32m    210\u001b[0m     \u001b[39mself\u001b[39m\u001b[39m.\u001b[39m_accelerator_flag \u001b[39m=\u001b[39m \u001b[39mself\u001b[39m\u001b[39m.\u001b[39m_choose_auto_accelerator()\n\u001b[1;32m    211\u001b[0m \u001b[39melif\u001b[39;00m \u001b[39mself\u001b[39m\u001b[39m.\u001b[39m_accelerator_flag \u001b[39m==\u001b[39m \u001b[39m\"\u001b[39m\u001b[39mgpu\u001b[39m\u001b[39m\"\u001b[39m:\n\u001b[0;32m--> 212\u001b[0m     \u001b[39mself\u001b[39m\u001b[39m.\u001b[39m_accelerator_flag \u001b[39m=\u001b[39m \u001b[39mself\u001b[39;49m\u001b[39m.\u001b[39;49m_choose_gpu_accelerator_backend()\n\u001b[1;32m    214\u001b[0m \u001b[39mself\u001b[39m\u001b[39m.\u001b[39m_set_parallel_devices_and_init_accelerator()\n\u001b[1;32m    216\u001b[0m \u001b[39m# 3. Instantiate ClusterEnvironment\u001b[39;00m\n",
      "File \u001b[0;32m~/.conda/envs/ml/lib/python3.10/site-packages/pytorch_lightning/trainer/connectors/accelerator_connector.py:518\u001b[0m, in \u001b[0;36mAcceleratorConnector._choose_gpu_accelerator_backend\u001b[0;34m()\u001b[0m\n\u001b[1;32m    515\u001b[0m \u001b[39mif\u001b[39;00m CUDAAccelerator\u001b[39m.\u001b[39mis_available():\n\u001b[1;32m    516\u001b[0m     \u001b[39mreturn\u001b[39;00m \u001b[39m\"\u001b[39m\u001b[39mcuda\u001b[39m\u001b[39m\"\u001b[39m\n\u001b[0;32m--> 518\u001b[0m \u001b[39mraise\u001b[39;00m MisconfigurationException(\u001b[39m\"\u001b[39m\u001b[39mNo supported gpu backend found!\u001b[39m\u001b[39m\"\u001b[39m)\n",
      "\u001b[0;31mMisconfigurationException\u001b[0m: No supported gpu backend found!"
     ]
    }
   ],
   "source": [
    "#!g1.1\n",
    "from torch.utils.data import DataLoader\n",
    "from pytorch_lightning.loggers import TensorBoardLogger\n",
    "\n",
    "print(\"Cuda is available:\", torch.cuda.is_available())\n",
    "\n",
    "# TODO: ehh... we want more than one graph, right?)\n",
    "dataset = [G]\n",
    "\n",
    "train_loader = DataLoader(dataset, batch_size=None)\n",
    "test_loader = DataLoader(dataset, batch_size=None)\n",
    "val_loader = DataLoader(dataset, batch_size=None)\n",
    "\n",
    "model = LightningModel()\n",
    "num_epochs = 2500\n",
    "# val_check_interval = len(train_loader)\n",
    "\n",
    "trainer = pl.Trainer(\n",
    "    max_epochs = num_epochs,\n",
    "    # val_check_interval = val_check_interval,\n",
    "    log_every_n_steps = 1,\n",
    "    accelerator = 'gpu',\n",
    "    enable_progress_bar = False,\n",
    ")\n",
    "trainer.fit(model, train_loader, val_loader)"
   ]
  },
  {
   "cell_type": "code",
   "execution_count": null,
   "metadata": {
    "cellId": "x0k9ezrw7srha0v1u8cee8",
    "execution_id": "1204e816-f3cd-4da7-ba4f-494673020d97"
   },
   "outputs": [],
   "source": [
    "#!g1.1\n"
   ]
  }
 ],
 "metadata": {
  "kernelspec": {
   "display_name": "Python 3.10.6 ('ml')",
   "language": "python",
   "name": "python3"
  },
  "language_info": {
   "codemirror_mode": {
    "name": "ipython",
    "version": 3
   },
   "file_extension": ".py",
   "mimetype": "text/x-python",
   "name": "python",
   "nbconvert_exporter": "python",
   "pygments_lexer": "ipython3",
   "version": "3.10.6"
  },
  "notebookId": "a155bcf5-968b-4cf3-90b6-eed71f0d9eb7",
  "notebookPath": "learn.ipynb",
  "vscode": {
   "interpreter": {
    "hash": "ee189fb280569f94aaba768fbc6f9a6e82e99133f07daf3aeaa1af78f799e3c7"
   }
  }
 },
 "nbformat": 4,
 "nbformat_minor": 4
}
