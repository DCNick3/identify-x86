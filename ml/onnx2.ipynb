{
 "cells": [
  {
   "cell_type": "code",
   "execution_count": 1,
   "metadata": {},
   "outputs": [],
   "source": [
    "import torch\n",
    "import torch_geometric\n",
    "\n",
    "import identify_x86_graph\n",
    "import identify_x86_model"
   ]
  },
  {
   "cell_type": "code",
   "execution_count": 2,
   "metadata": {},
   "outputs": [
    {
     "name": "stdout",
     "output_type": "stream",
     "text": [
      "2.0.0\n"
     ]
    }
   ],
   "source": [
    "print(torch.__version__)"
   ]
  },
  {
   "cell_type": "code",
   "execution_count": 3,
   "metadata": {},
   "outputs": [
    {
     "name": "stderr",
     "output_type": "stream",
     "text": [
      "Lightning automatically upgraded your loaded checkpoint from v1.7.7 to v2.0.1.post0. To apply the upgrade to your files permanently, run `python -m pytorch_lightning.utilities.upgrade_checkpoint --file lightning_logs/version_51/checkpoints/epoch=4-step=4345.ckpt`\n"
     ]
    }
   ],
   "source": [
    "model = identify_x86_model.LightningModel.load_from_checkpoint('lightning_logs/version_51/checkpoints/epoch=4-step=4345.ckpt')"
   ]
  },
  {
   "cell_type": "code",
   "execution_count": 4,
   "metadata": {},
   "outputs": [
    {
     "data": {
      "text/plain": [
       "Data(num_nodes=25188, x_code=[25188], x_size=[25188], y=[25188], num_edges=278940, edge_index=[2, 278940], edge_type=[278940])"
      ]
     },
     "execution_count": 4,
     "metadata": {},
     "output_type": "execute_result"
    }
   ],
   "source": [
    "G = identify_x86_graph.load_graph('data/raw/debian/buster/binutils-i686-linux-gnu/usr_bin_i686-linux-gnu-addr2line.graph')\n",
    "\n",
    "G"
   ]
  },
  {
   "cell_type": "code",
   "execution_count": 5,
   "metadata": {},
   "outputs": [
    {
     "name": "stdout",
     "output_type": "stream",
     "text": [
      "tensor([[ 0.7517, -0.7146],\n",
      "        [ 0.7517, -0.7146],\n",
      "        [ 0.7517, -0.7146],\n",
      "        ...,\n",
      "        [ 0.7517, -0.7146],\n",
      "        [ 0.7517, -0.7146],\n",
      "        [ 0.7517, -0.7146]])\n"
     ]
    }
   ],
   "source": [
    "example_input = (G.x_code, G.x_size, G.edge_index, G.edge_type)\n",
    "\n",
    "with torch.no_grad():\n",
    "    example_output = model(*example_input)\n",
    "\n",
    "print(example_output)"
   ]
  },
  {
   "cell_type": "code",
   "execution_count": 8,
   "metadata": {},
   "outputs": [
    {
     "name": "stdout",
     "output_type": "stream",
     "text": [
      "Model JIT: RecursiveScriptModule(\n",
      "  original_name=IdentifyModel\n",
      "  (model): RecursiveScriptModule(\n",
      "    original_name=Sequential_4d4c62\n",
      "    (module_0): RecursiveScriptModule(original_name=Embedding)\n",
      "    (module_1): RecursiveScriptModule(original_name=Embedding)\n",
      "    (module_3): RecursiveScriptModule(\n",
      "      original_name=RGCNConvJittable_4d31db\n",
      "      (aggr_module): RecursiveScriptModule(original_name=MeanAggregation)\n",
      "    )\n",
      "    (module_4): RecursiveScriptModule(original_name=ReLU)\n",
      "    (module_5): RecursiveScriptModule(\n",
      "      original_name=RGCNConvJittable_4d3a75\n",
      "      (aggr_module): RecursiveScriptModule(original_name=MeanAggregation)\n",
      "    )\n",
      "    (module_6): RecursiveScriptModule(original_name=ReLU)\n",
      "    (module_7): RecursiveScriptModule(\n",
      "      original_name=RGCNConvJittable_4d42a5\n",
      "      (aggr_module): RecursiveScriptModule(original_name=MeanAggregation)\n",
      "    )\n",
      "    (module_8): RecursiveScriptModule(original_name=ReLU)\n",
      "    (module_9): RecursiveScriptModule(\n",
      "      original_name=RGCNConvJittable_4d4b16\n",
      "      (aggr_module): RecursiveScriptModule(original_name=MeanAggregation)\n",
      "    )\n",
      "    (module_10): RecursiveScriptModule(original_name=ReLU)\n",
      "    (module_11): RecursiveScriptModule(original_name=Linear)\n",
      "  )\n",
      ")\n"
     ]
    }
   ],
   "source": [
    "model_jit = torch.jit.script(model.model)\n",
    "print(\"Model JIT:\", model_jit)"
   ]
  },
  {
   "cell_type": "code",
   "execution_count": 9,
   "metadata": {},
   "outputs": [],
   "source": [
    "model_jit.save(f\"model_jit2.pt\")"
   ]
  },
  {
   "cell_type": "code",
   "execution_count": 6,
   "metadata": {},
   "outputs": [],
   "source": [
    "\n",
    "# torch.onnx.export(\n",
    "#     model = model,\n",
    "#     args = (G.x_code, G.x_size, G.edge_index, G.edge_type),\n",
    "#     f = 'model.onnx',\n",
    "#     input_names = ['x_code', 'x_size', 'edge_index', 'edge_type'],\n",
    "#     operator_export_type=torch.onnx.OperatorExportTypes.ONNX,\n",
    "#     opset_version = 16,\n",
    "#     verbose = True,\n",
    "#     dynamic_axes = None,\n",
    "#     export_modules_as_functions = False,\n",
    "# )"
   ]
  },
  {
   "cell_type": "code",
   "execution_count": null,
   "metadata": {},
   "outputs": [],
   "source": []
  }
 ],
 "metadata": {
  "kernelspec": {
   "display_name": "ml2",
   "language": "python",
   "name": "python3"
  },
  "language_info": {
   "codemirror_mode": {
    "name": "ipython",
    "version": 3
   },
   "file_extension": ".py",
   "mimetype": "text/x-python",
   "name": "python",
   "nbconvert_exporter": "python",
   "pygments_lexer": "ipython3",
   "version": "3.10.9"
  },
  "orig_nbformat": 4,
  "vscode": {
   "interpreter": {
    "hash": "b6f9007b797bfe77ea54e56ef8f71f2cbe93648552f308c16523f111525d0f28"
   }
  }
 },
 "nbformat": 4,
 "nbformat_minor": 2
}
